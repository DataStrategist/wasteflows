{
 "cells": [
  {
   "cell_type": "markdown",
   "metadata": {},
   "source": [
    "### What: Improve understanding of waste and recycling material flows in the UK with a view to reduce waste and improve recycling rates.\n",
    "### How: We aim to identify target human behaviours and areas of strategy focus which would be most effective.\n",
    "### How: Analysing recycling data gathered by local authorities, combining it with any additional sources, quantifying and comparing tonnes of waste flows across boroughs and recycling facilities\n",
    "\n",
    "\n",
    "## Resources\n",
    "\n",
    "*  https://www.environment.gov.scot/media/2214/20180314_2017_wds_workshop_outcomes.pdf\n",
    "\n",
    "### Annual recycling London vs England and London Boroughs dataset + opinion poll\n",
    "\n",
    "* https://data.london.gov.uk/gla-poll-results/\n",
    "* https://data.london.gov.uk/download/local-authority-collected-waste-management-london/4d88d88c-31a7-468b-95e9-49fba78ad20e/la-collected-waste.xls\n",
    "* https://data.london.gov.uk/download/household-waste-recycling-rates-borough/15ddc38a-0a37-4f69-98b5-e69e549b39d3/Household%20recycling.csv\n",
    "\n",
    "### Waste dataflow (zip xlsx format - be patient with the UI)\n",
    "\n",
    "* http://www.wastedataflow.org/login.aspx?logoff=true\n",
    "* http://www.wastedataflow.org/reports/default.aspx\n",
    "\n",
    "### local authority district shapefiles:\n",
    "\n",
    "* http://geoportal.statistics.gov.uk/datasets/ae90afc385c04d869bc8cf8890bd1bcd_2\n",
    "* http://geoportal.statistics.gov.uk/datasets/ae90afc385c04d869bc8cf8890bd1bcd_3\n",
    "\n",
    "* https://github.com/martinjc/UK-GeoJSON/tree/master/json\n",
    "* https://martinjc.github.io/UK-GeoJSON/\n",
    "\n",
    "### cambridge guy's paper"
   ]
  },
  {
   "cell_type": "code",
   "execution_count": null,
   "metadata": {},
   "outputs": [],
   "source": [
    "import pandas as pd\n",
    "import numpy as np\n",
    "import json\n",
    "import folium\n",
    "#from jinja2 import Template"
   ]
  },
  {
   "cell_type": "markdown",
   "metadata": {},
   "source": [
    "## London Borough Recycling Rates"
   ]
  },
  {
   "cell_type": "code",
   "execution_count": null,
   "metadata": {},
   "outputs": [],
   "source": [
    "df_recycling_rates = pd.read_excel('./datasets/household-recycling-borough.xls', sheet_name='Household Recycling Rates', skiprows=1, header=0, nrows = 33)\n",
    "df_recycling_rates.columns = [\"New_Code\",\"Code\",\"Area\",\"y_1998_99\",\"y_1999_00\",\"y_2000_01\",\"y_2001_02\",\"y_2002_03\",\"y_2003_04\",\"y_2004_05\",\"y_2005_06\",\"y_2006_07\",\"y_2007_08\",\"y_2008_09\",\"y_2009_10\",\"y_2010-11\",\"y_2011_12\",\"y_2012_13\",\"y_2013_14\",\"y_2014_15\",\"y_2015_16\",\"y_2016_17\"]"
   ]
  },
  {
   "cell_type": "code",
   "execution_count": null,
   "metadata": {},
   "outputs": [],
   "source": [
    "df_recycling_rates.head()"
   ]
  },
  {
   "cell_type": "code",
   "execution_count": null,
   "metadata": {},
   "outputs": [],
   "source": [
    "# List Borough codes names to compare vs shapefiles\n",
    "df_recycling_rates[['New_Code','Area']].head(35)"
   ]
  },
  {
   "cell_type": "markdown",
   "metadata": {},
   "source": [
    "## Import and filter local authority shapefile"
   ]
  },
  {
   "cell_type": "code",
   "execution_count": null,
   "metadata": {},
   "outputs": [],
   "source": [
    "# filter polygon LAs to contain only ones we have recycling aggregated data for\n",
    "\n",
    "# get a list of LAs\n",
    "LA_list = df_recycling_rates['New_Code'].values\n",
    "\n",
    "# load json object\n",
    "LAGeoJson = './lad2.json'\n",
    "with open(LAGeoJson) as j:\n",
    "    la_geojson = json.load(j)\n",
    "    j.close()\n",
    "    \n",
    "buffer = []\n",
    "for record in la_geojson['features']:\n",
    "    if record['properties']['LAD13CD'] in LA_list:\n",
    "        buffer.append(dict(record))\n",
    "\n",
    "# write the filtered json        \n",
    "with open(\".datasets/lad_selected.json\", \"w\", encoding = \"utf8\") as f:\n",
    "    f.write(json.dumps({\"type\": \"FeatureCollection\",\n",
    "\"crs\": { \"type\": \"name\", \"properties\": { \"name\": \"urn:ogc:def:crs:OGC:1.3:CRS84\" } },\"features\": buffer}, indent=2) + \"\\n\")\n",
    "    f.close()"
   ]
  },
  {
   "cell_type": "markdown",
   "metadata": {},
   "source": [
    "# Plot London recycling rates on map"
   ]
  },
  {
   "cell_type": "code",
   "execution_count": null,
   "metadata": {},
   "outputs": [],
   "source": [
    "LAGeoJson = '.datasets/lad_selected.json'\n",
    "LAMap3 = \"./charts/lad_selected.html\"\n",
    "\n",
    "m = folium.Map(location=[51.5, -0.1], zoom_start=11)\n",
    "\n",
    "folium.Choropleth(\n",
    "    geo_data = LAGeoJson,\n",
    "    legend_name='Local Authority Recycling rates',\n",
    "    data = df_recycling_rates[['New_Code','y_2016_17']],\n",
    "    columns = ['New_Code', 'y_2016_17'],\n",
    "    key_on='feature.properties.LAD13CD',\n",
    "    fill_color='RdYlGn',\n",
    "    fill_opacity=0.7,\n",
    "    line_opacity=0.2,\n",
    "    label = 'feature.properties.LAD13NM'\n",
    "    \n",
    ").add_to(m)\n",
    "\n",
    "folium.LayerControl().add_to(m)\n",
    "\n",
    "m.save(outfile = LAMap3)\n",
    "\n",
    "\n",
    "m"
   ]
  },
  {
   "cell_type": "markdown",
   "metadata": {},
   "source": [
    "## Waste Dataflow dataset. Recycling by meterial type. All Local Authorities, quarterly"
   ]
  },
  {
   "cell_type": "code",
   "execution_count": null,
   "metadata": {},
   "outputs": [],
   "source": [
    "df = pd.read_excel('./datasets/Raw_Data_Download_London_quarter.xlsx', sheet_name='Q100', skiprows=0, header=1, usecols=\"A:N,S:Y,AB-AD,AI\")"
   ]
  },
  {
   "cell_type": "code",
   "execution_count": null,
   "metadata": {},
   "outputs": [],
   "source": [
    "df.head(4)"
   ]
  },
  {
   "cell_type": "code",
   "execution_count": null,
   "metadata": {},
   "outputs": [],
   "source": [
    "df_stream.columns"
   ]
  },
  {
   "cell_type": "code",
   "execution_count": null,
   "metadata": {},
   "outputs": [],
   "source": [
    "df['year'] = df['Period'].str.split(' ').str[1]"
   ]
  },
  {
   "cell_type": "markdown",
   "metadata": {},
   "source": []
  },
  {
   "cell_type": "code",
   "execution_count": null,
   "metadata": {},
   "outputs": [],
   "source": [
    "# Optional: remove rows if only interested in %recycled by material type:\n",
    "# FacilityType = \"Materials recovery facility\" which may stand for an intermediary, total tonnage - consider adding later\n",
    "# FacilityType = \"Final Destination\" e.g. composting \n",
    "df_stream = df[(df['FacilityTypeId'] != 8) & (df['FacilityTypeId'] != 22) & (df['WasteProcessorOutputId'] != 0) ] # & (SenderWasteProcessorOutputId != 0)"
   ]
  },
  {
   "cell_type": "code",
   "execution_count": null,
   "metadata": {},
   "outputs": [],
   "source": [
    "df_stream[['Authority','WasteStreamType','FacilityName','TonnesByMaterial','OutputProcessType','Material']].head(10)"
   ]
  },
  {
   "cell_type": "code",
   "execution_count": null,
   "metadata": {},
   "outputs": [],
   "source": [
    "df_stream['OutputProcessMaterial'] = df_stream[['OutputProcessType','Material']].replace(np.nan,'',regex=True).apply(lambda x: '_'.join(x), axis = 1)"
   ]
  },
  {
   "cell_type": "code",
   "execution_count": null,
   "metadata": {},
   "outputs": [],
   "source": [
    "# select columns required for plotting sankey\n",
    "df_flows = df_stream[['Authority','FacilityName','WasteStreamType','Material','TonnesByMaterial']]"
   ]
  },
  {
   "cell_type": "markdown",
   "metadata": {},
   "source": [
    "# Sankey Chart"
   ]
  },
  {
   "cell_type": "code",
   "execution_count": null,
   "metadata": {},
   "outputs": [],
   "source": [
    "# Create a 'dimensions' table. Can add extra LA and Processing Facility characteristics here.\n",
    "authorities = pd.DataFrame({'authority': np.unique(df_flows['Authority'].values),'type':['authority' for x in range(len(np.unique(df_flows['Authority'].values)))]})"
   ]
  },
  {
   "cell_type": "code",
   "execution_count": null,
   "metadata": {},
   "outputs": [],
   "source": [
    "authorities"
   ]
  },
  {
   "cell_type": "code",
   "execution_count": null,
   "metadata": {},
   "outputs": [],
   "source": [
    "# https://sankeyview.readthedocs.io/en/latest/tutorials/dimension-tables.html\n",
    "\n",
    "# Setup\n",
    "from floweaver import *\n",
    "\n",
    "# Set the default size to fit the documentation better.\n",
    "size = dict(width=570, height=300)\n",
    "\n",
    "dataset = Dataset(flows, dim_process=processes)\n",
    "\n"
   ]
  },
  {
   "cell_type": "code",
   "execution_count": null,
   "metadata": {},
   "outputs": [],
   "source": [
    "nodes = {\n",
    "    'authorities': ProcessGroup('type == \"authority\"'),\n",
    "    'facilities': ProcessGroup('type == \"facility\"'),\n",
    "}\n",
    "\n",
    "ordering = [\n",
    "    ['authorities'],       # put \"authorities\" on the left...\n",
    "    ['facilities'],   # ... and \"facilities\" on the right.\n",
    "]\n"
   ]
  },
  {
   "cell_type": "code",
   "execution_count": null,
   "metadata": {},
   "outputs": [],
   "source": [
    "# Another partition -- but this time the dimension is the \"type\"\n",
    "# column of the flows table\n",
    "fruits_by_type = Partition.Simple('type', ['apples', 'bananas'])\n",
    "\n",
    "# Set the colours for the labels in the partition.\n",
    "palette = {'apples': 'yellowgreen', 'bananas': 'gold'}\n",
    "\n",
    "# New SDD with the flow_partition set\n",
    "sdd = SankeyDefinition(nodes, bundles, ordering,\n",
    "                       flow_partition=fruits_by_type)\n",
    "\n",
    "weave(sdd, flows, palette=palette).to_widget(**size)"
   ]
  }
 ],
 "metadata": {
  "kernelspec": {
   "display_name": "uk waste",
   "language": "python",
   "name": "ukwaste"
  },
  "language_info": {
   "codemirror_mode": {
    "name": "ipython",
    "version": 3
   },
   "file_extension": ".py",
   "mimetype": "text/x-python",
   "name": "python",
   "nbconvert_exporter": "python",
   "pygments_lexer": "ipython3",
   "version": "3.5.6"
  }
 },
 "nbformat": 4,
 "nbformat_minor": 2
}
